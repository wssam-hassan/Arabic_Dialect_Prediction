{
 "cells": [
  {
   "cell_type": "markdown",
   "metadata": {},
   "source": [
    "### Install Non Built-in Libraries"
   ]
  },
  {
   "cell_type": "code",
   "execution_count": 1,
   "metadata": {},
   "outputs": [],
   "source": [
    "# uncomment the following line code if nbimporter library not installed\n",
    "# !pip install nbimporter\n",
    "\n",
    "# uncomment the following line code if pycountry library not installed\n",
    "# !conda install -c conda-forge pycountry"
   ]
  },
  {
   "cell_type": "markdown",
   "metadata": {},
   "source": [
    "### Import Libraries"
   ]
  },
  {
   "cell_type": "code",
   "execution_count": 2,
   "metadata": {},
   "outputs": [],
   "source": [
    "# to import from other notebooks\n",
    "import nbimporter\n",
    "\n",
    "# to convert countries alpha2 code to country name\n",
    "import pycountry\n",
    "\n",
    "# for deployment\n",
    "import flask   \n",
    "import pickle\n",
    "import json\n",
    "from flask import Flask, request, Response, jsonify, render_template"
   ]
  },
  {
   "cell_type": "markdown",
   "metadata": {},
   "source": [
    "### Load Model & Training Instants "
   ]
  },
  {
   "cell_type": "code",
   "execution_count": 3,
   "metadata": {},
   "outputs": [],
   "source": [
    "# model pipeline\n",
    "model = pickle.load(open('models/svm_pipeline.pkl', 'rb'))\n",
    "\n",
    "# label encoder instant\n",
    "le = pickle.load(open('models/labelencoder.pkl', 'rb'))"
   ]
  },
  {
   "cell_type": "markdown",
   "metadata": {},
   "source": [
    "### Text Preprocessing "
   ]
  },
  {
   "cell_type": "code",
   "execution_count": 4,
   "metadata": {},
   "outputs": [],
   "source": [
    "# import preprocessing function from \n",
    "from Data_Preprocessing import *"
   ]
  },
  {
   "cell_type": "code",
   "execution_count": 5,
   "metadata": {},
   "outputs": [],
   "source": [
    "# create specific functions\n",
    "\n",
    "## remove_punctuations\n",
    "arabic_punctuations = '''`÷×؛<>_()*&^%][ـ،/:\"؟.,'{}~¦+|!”…“–ـ»«•'''\n",
    "english_punctuations = string.punctuation\n",
    "punctuations_list = arabic_punctuations + english_punctuations\n",
    "\n",
    "def remove_punctuations(text):\n",
    "    for punc in punctuations_list:\n",
    "        text = text.replace(punc, '')\n",
    "    return text\n",
    "\n",
    "## remove_diacritics\n",
    "arabic_diacritics = re.compile(\"\"\"\n",
    "                             ّ    | # Tashdid\n",
    "                             َ    | # Fatha\n",
    "                             ً    | # Tanwin Fath\n",
    "                             ُ    | # Damma\n",
    "                             ٌ    | # Tanwin Damm\n",
    "                             ِ    | # Kasra\n",
    "                             ٍ    | # Tanwin Kasr\n",
    "                             ْ    | # Sukun\n",
    "                             ـ     # Tatwil/Kashida\n",
    "                         \"\"\", re.VERBOSE)\n",
    "\n",
    "def remove_diacritics(text):\n",
    "    return re.sub(arabic_diacritics, '', text)\n"
   ]
  },
  {
   "cell_type": "code",
   "execution_count": 6,
   "metadata": {},
   "outputs": [],
   "source": [
    "# create function \n",
    "preprocessing_functions = [remove_newlines_tabs,remove_tages_hashtags, remove_emojis,\n",
    "                           remove_links, remove_punctuations, remove_diacritics,\n",
    "                           remove_numbers, remove_english, remove_elongation,\n",
    "                           normalize_text, remove_whitespaces]\n",
    "\n",
    "\n",
    "def text_preprocessing(text):\n",
    "    for func in preprocessing_functions:\n",
    "        text = func(text)\n",
    "    return text"
   ]
  },
  {
   "cell_type": "code",
   "execution_count": 7,
   "metadata": {},
   "outputs": [],
   "source": [
    "# countries dictionary\n",
    "country_dict = {}\n",
    "\n",
    "# extract only countries we deal with in doalect case\n",
    "for country in pycountry.countries:\n",
    "    if country.alpha_2 in le.classes_:\n",
    "        country_dict[country.alpha_2] = country.name\n",
    "\n",
    "# correct wrong country name\n",
    "country_dict['PL'] = 'Palestine'"
   ]
  },
  {
   "cell_type": "markdown",
   "metadata": {},
   "source": [
    "### ReSTful API Web Application\n",
    "- get request"
   ]
  },
  {
   "cell_type": "code",
   "execution_count": 8,
   "metadata": {},
   "outputs": [],
   "source": [
    "# design the web service\n",
    "app = Flask(__name__)\n",
    "\n",
    "\n",
    "# home route\n",
    "@app.route('/')\n",
    "def home():\n",
    "    return '<br><br><h1 style=\"text-align:center\">Welcome To Dialect Prediction Model</h1>'\n",
    "\n",
    "\n",
    "# prediction route\n",
    "@app.route('/get_predict/', methods=['GET'])\n",
    "def get_predict():\n",
    "    \n",
    "    # get text and preprocess\n",
    "    originial_text = str(request.args['text'])\n",
    "    text = text_preprocessing(originial_text)\n",
    "    \n",
    "    # validation step\n",
    "    if len(text) == 0:\n",
    "        return Response(json.dumps({'error': 'Not Sufficient Text.'}), status=500)\n",
    "    \n",
    "    else:\n",
    "        # make a prediction\n",
    "        model_pred = model.predict([text])\n",
    "        dialect_class = le.inverse_transform([model_pred])[0]\n",
    "        country_name = country_dict[dialect_class]\n",
    "    \n",
    "    # retun json\n",
    "    return jsonify(text = str(originial_text), dialect = dialect_class, country = country_name)"
   ]
  },
  {
   "cell_type": "code",
   "execution_count": 9,
   "metadata": {},
   "outputs": [
    {
     "name": "stdout",
     "output_type": "stream",
     "text": [
      " * Serving Flask app \"__main__\" (lazy loading)\n",
      " * Environment: production\n",
      "   WARNING: This is a development server. Do not use it in a production deployment.\n",
      "   Use a production WSGI server instead.\n",
      " * Debug mode: on\n"
     ]
    },
    {
     "name": "stderr",
     "output_type": "stream",
     "text": [
      " * Running on http://127.0.0.1:5000/ (Press CTRL+C to quit)\n",
      "127.0.0.1 - - [14/Mar/2022 15:02:19] \"\u001b[32mGET /get_predict?text=عايزين+حاجات+من+السوبرماركت HTTP/1.1\u001b[0m\" 308 -\n",
      "C:\\Users\\Wssam\\anaconda3\\lib\\site-packages\\sklearn\\utils\\validation.py:72: DataConversionWarning: A column-vector y was passed when a 1d array was expected. Please change the shape of y to (n_samples, ), for example using ravel().\n",
      "  return f(**kwargs)\n",
      "127.0.0.1 - - [14/Mar/2022 15:02:19] \"\u001b[37mGET /get_predict/?text=عايزين+حاجات+من+السوبرماركت HTTP/1.1\u001b[0m\" 200 -\n"
     ]
    }
   ],
   "source": [
    "# run server\n",
    "if __name__ == '__main__':\n",
    "    app.run(debug=True, use_reloader=False)"
   ]
  },
  {
   "cell_type": "markdown",
   "metadata": {},
   "source": [
    "### GUI Web Application"
   ]
  },
  {
   "cell_type": "code",
   "execution_count": 10,
   "metadata": {},
   "outputs": [],
   "source": [
    "# design the web service\n",
    "app = Flask(__name__)\n",
    "\n",
    "\n",
    "# home route\n",
    "@app.route('/home', methods=['GET', 'POST'])\n",
    "@app.route('/', methods=['GET'])\n",
    "def main():\n",
    "    return render_template('mainpage.html')\n",
    "\n",
    "\n",
    "# prediction route\n",
    "@app.route('/predict', methods=['GET', 'POST'])\n",
    "def predict():\n",
    "    if request.method == 'POST':\n",
    "        \n",
    "        # get text from post request and preprocess\n",
    "        text = request.form['text']\n",
    "        text = text_preprocessing(text)\n",
    "\n",
    "        # validation step\n",
    "        if len(text) == 0:\n",
    "            return render_template('predictionpage.html', dialect = '', country = 'Not Sufficient Text')\n",
    "        \n",
    "        else:\n",
    "            # make a prediction\n",
    "            model_pred = model.predict([text])\n",
    "            dialect_class = le.inverse_transform([model_pred])[0]\n",
    "            country_name = country_dict[dialect_class]\n",
    "        \n",
    "    return render_template('predictionpage.html', dialect = dialect_class, country = country_name)"
   ]
  },
  {
   "cell_type": "code",
   "execution_count": 11,
   "metadata": {},
   "outputs": [
    {
     "name": "stdout",
     "output_type": "stream",
     "text": [
      " * Serving Flask app \"__main__\" (lazy loading)\n",
      " * Environment: production\n",
      "   WARNING: This is a development server. Do not use it in a production deployment.\n",
      "   Use a production WSGI server instead.\n",
      " * Debug mode: on\n"
     ]
    },
    {
     "name": "stderr",
     "output_type": "stream",
     "text": [
      " * Running on http://127.0.0.1:5000/ (Press CTRL+C to quit)\n",
      "127.0.0.1 - - [14/Mar/2022 15:02:36] \"\u001b[37mGET / HTTP/1.1\u001b[0m\" 200 -\n",
      "127.0.0.1 - - [14/Mar/2022 15:02:36] \"\u001b[33mGET /favicon.ico HTTP/1.1\u001b[0m\" 404 -\n",
      "127.0.0.1 - - [14/Mar/2022 15:03:13] \"\u001b[37mPOST /predict HTTP/1.1\u001b[0m\" 200 -\n",
      "127.0.0.1 - - [14/Mar/2022 15:03:36] \"\u001b[37mPOST /home HTTP/1.1\u001b[0m\" 200 -\n",
      "127.0.0.1 - - [14/Mar/2022 15:03:36] \"\u001b[33mGET /favicon.ico HTTP/1.1\u001b[0m\" 404 -\n",
      "127.0.0.1 - - [14/Mar/2022 15:03:41] \"\u001b[37mPOST /predict HTTP/1.1\u001b[0m\" 200 -\n"
     ]
    }
   ],
   "source": [
    "# run server\n",
    "if __name__ == '__main__':\n",
    "    app.run(debug=True, use_reloader=False)"
   ]
  },
  {
   "cell_type": "markdown",
   "metadata": {},
   "source": [
    "### Done!"
   ]
  }
 ],
 "metadata": {
  "kernelspec": {
   "display_name": "Python 3",
   "language": "python",
   "name": "python3"
  },
  "language_info": {
   "codemirror_mode": {
    "name": "ipython",
    "version": 3
   },
   "file_extension": ".py",
   "mimetype": "text/x-python",
   "name": "python",
   "nbconvert_exporter": "python",
   "pygments_lexer": "ipython3",
   "version": "3.8.5"
  }
 },
 "nbformat": 4,
 "nbformat_minor": 4
}
