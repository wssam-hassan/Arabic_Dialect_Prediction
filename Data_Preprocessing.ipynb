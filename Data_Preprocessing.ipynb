{
 "cells": [
  {
   "cell_type": "markdown",
   "metadata": {
    "id": "t8Js5aOyAHbD"
   },
   "source": [
    "### Install Non Built-in Libraries"
   ]
  },
  {
   "cell_type": "code",
   "execution_count": 1,
   "metadata": {
    "colab": {
     "base_uri": "https://localhost:8080/"
    },
    "id": "Jccr8RxbAUPb",
    "outputId": "f81ab94b-45b8-48ab-da83-2c7ef484cfb8"
   },
   "outputs": [],
   "source": [
    "# uncomment the following line code if emoji library not installed\n",
    "# !pip install emoji"
   ]
  },
  {
   "cell_type": "markdown",
   "metadata": {
    "id": "hZKIdQD8XKGP"
   },
   "source": [
    "### Import Libraries"
   ]
  },
  {
   "cell_type": "code",
   "execution_count": 2,
   "metadata": {
    "id": "495MxaVMXA3i"
   },
   "outputs": [],
   "source": [
    "# for data reading and visualization\n",
    "import numpy as np\n",
    "import pandas as pd\n",
    "import matplotlib.pyplot as plt\n",
    "\n",
    "# for text cleaning\n",
    "import re\n",
    "import string\n",
    "import emoji\n",
    "\n",
    "# for preprocessing\n",
    "from sklearn.preprocessing import LabelEncoder\n",
    "from sklearn.model_selection import train_test_split\n",
    "\n",
    "# for saving the label encoder instant\n",
    "import pickle"
   ]
  },
  {
   "cell_type": "markdown",
   "metadata": {
    "id": "12OLj8qqXYw9"
   },
   "source": [
    "### Load Dataset"
   ]
  },
  {
   "cell_type": "code",
   "execution_count": 3,
   "metadata": {
    "colab": {
     "base_uri": "https://localhost:8080/",
     "height": 424
    },
    "id": "VZtwXuHmY0uA",
    "outputId": "44c19bc7-4fc4-4080-82ab-2e13afd06e4b"
   },
   "outputs": [
    {
     "data": {
      "text/html": [
       "<div>\n",
       "<style scoped>\n",
       "    .dataframe tbody tr th:only-of-type {\n",
       "        vertical-align: middle;\n",
       "    }\n",
       "\n",
       "    .dataframe tbody tr th {\n",
       "        vertical-align: top;\n",
       "    }\n",
       "\n",
       "    .dataframe thead th {\n",
       "        text-align: right;\n",
       "    }\n",
       "</style>\n",
       "<table border=\"1\" class=\"dataframe\">\n",
       "  <thead>\n",
       "    <tr style=\"text-align: right;\">\n",
       "      <th></th>\n",
       "      <th>dialect</th>\n",
       "      <th>text</th>\n",
       "    </tr>\n",
       "  </thead>\n",
       "  <tbody>\n",
       "    <tr>\n",
       "      <th>0</th>\n",
       "      <td>IQ</td>\n",
       "      <td>@Nw8ieJUwaCAAreT لكن بالنهاية .. ينتفض .. يغير .</td>\n",
       "    </tr>\n",
       "    <tr>\n",
       "      <th>1</th>\n",
       "      <td>IQ</td>\n",
       "      <td>@7zNqXP0yrODdRjK يعني هذا محسوب على البشر .. ح...</td>\n",
       "    </tr>\n",
       "    <tr>\n",
       "      <th>2</th>\n",
       "      <td>IQ</td>\n",
       "      <td>@KanaanRema مبين من كلامه خليجي</td>\n",
       "    </tr>\n",
       "    <tr>\n",
       "      <th>3</th>\n",
       "      <td>IQ</td>\n",
       "      <td>@HAIDER76128900 يسلملي مرورك وروحك الحلوه💐</td>\n",
       "    </tr>\n",
       "    <tr>\n",
       "      <th>4</th>\n",
       "      <td>IQ</td>\n",
       "      <td>@hmo2406 وين هل الغيبه  اخ محمد 🌸🌺</td>\n",
       "    </tr>\n",
       "    <tr>\n",
       "      <th>...</th>\n",
       "      <td>...</td>\n",
       "      <td>...</td>\n",
       "    </tr>\n",
       "    <tr>\n",
       "      <th>458192</th>\n",
       "      <td>BH</td>\n",
       "      <td>@Al_mhbaa_7 مبسوطين منك اللي باسطانا😅</td>\n",
       "    </tr>\n",
       "    <tr>\n",
       "      <th>458193</th>\n",
       "      <td>BH</td>\n",
       "      <td>@Zzainabali @P_ameerah والله ماينده ابش يختي</td>\n",
       "    </tr>\n",
       "    <tr>\n",
       "      <th>458194</th>\n",
       "      <td>BH</td>\n",
       "      <td>@Al_mhbaa_7 شو عملنا لك حنا تهربي مننا احنا مس...</td>\n",
       "    </tr>\n",
       "    <tr>\n",
       "      <th>458195</th>\n",
       "      <td>BH</td>\n",
       "      <td>@haneenalmwla الله يبارك فيها وبالعافيه 😋😋😋</td>\n",
       "    </tr>\n",
       "    <tr>\n",
       "      <th>458196</th>\n",
       "      <td>BH</td>\n",
       "      <td>@jolnar121 السحله ضيفي ي بتطلع لك سحليه😅😅</td>\n",
       "    </tr>\n",
       "  </tbody>\n",
       "</table>\n",
       "<p>458197 rows × 2 columns</p>\n",
       "</div>"
      ],
      "text/plain": [
       "       dialect                                               text\n",
       "0           IQ   @Nw8ieJUwaCAAreT لكن بالنهاية .. ينتفض .. يغير .\n",
       "1           IQ  @7zNqXP0yrODdRjK يعني هذا محسوب على البشر .. ح...\n",
       "2           IQ                    @KanaanRema مبين من كلامه خليجي\n",
       "3           IQ         @HAIDER76128900 يسلملي مرورك وروحك الحلوه💐\n",
       "4           IQ                 @hmo2406 وين هل الغيبه  اخ محمد 🌸🌺\n",
       "...        ...                                                ...\n",
       "458192      BH              @Al_mhbaa_7 مبسوطين منك اللي باسطانا😅\n",
       "458193      BH       @Zzainabali @P_ameerah والله ماينده ابش يختي\n",
       "458194      BH  @Al_mhbaa_7 شو عملنا لك حنا تهربي مننا احنا مس...\n",
       "458195      BH        @haneenalmwla الله يبارك فيها وبالعافيه 😋😋😋\n",
       "458196      BH          @jolnar121 السحله ضيفي ي بتطلع لك سحليه😅😅\n",
       "\n",
       "[458197 rows x 2 columns]"
      ]
     },
     "execution_count": 3,
     "metadata": {},
     "output_type": "execute_result"
    }
   ],
   "source": [
    "# read requested_dataset csv file as a dataframe\n",
    "df = pd.read_csv('data/requested_dataset.csv')\n",
    "df"
   ]
  },
  {
   "cell_type": "markdown",
   "metadata": {
    "id": "l1DKBCsUaBVQ"
   },
   "source": [
    "### Exploratory Data Analysis and Assessment"
   ]
  },
  {
   "cell_type": "code",
   "execution_count": 4,
   "metadata": {
    "colab": {
     "base_uri": "https://localhost:8080/"
    },
    "id": "KEGDz3Lgdjm1",
    "outputId": "24a19f72-aaa4-4123-ce41-708c914d3a3b"
   },
   "outputs": [
    {
     "name": "stdout",
     "output_type": "stream",
     "text": [
      "<class 'pandas.core.frame.DataFrame'>\n",
      "RangeIndex: 458197 entries, 0 to 458196\n",
      "Data columns (total 2 columns):\n",
      " #   Column   Non-Null Count   Dtype \n",
      "---  ------   --------------   ----- \n",
      " 0   dialect  458197 non-null  object\n",
      " 1   text     458197 non-null  object\n",
      "dtypes: object(2)\n",
      "memory usage: 7.0+ MB\n"
     ]
    }
   ],
   "source": [
    "# dataframe information\n",
    "df.info()"
   ]
  },
  {
   "cell_type": "code",
   "execution_count": 5,
   "metadata": {
    "colab": {
     "base_uri": "https://localhost:8080/"
    },
    "id": "3Kgqv_3yZkW7",
    "outputId": "1c9c3e10-29bd-428a-ee23-6432378236cb"
   },
   "outputs": [
    {
     "data": {
      "text/plain": [
       "dialect    0\n",
       "text       0\n",
       "dtype: int64"
      ]
     },
     "execution_count": 5,
     "metadata": {},
     "output_type": "execute_result"
    }
   ],
   "source": [
    "# check NaNs\n",
    "df.isnull().sum()"
   ]
  },
  {
   "cell_type": "code",
   "execution_count": 6,
   "metadata": {
    "colab": {
     "base_uri": "https://localhost:8080/"
    },
    "id": "FF10jIPHeTDM",
    "outputId": "24237e63-e532-471f-85ae-af53891623fc"
   },
   "outputs": [
    {
     "data": {
      "text/plain": [
       "18"
      ]
     },
     "execution_count": 6,
     "metadata": {},
     "output_type": "execute_result"
    }
   ],
   "source": [
    "# number of unique dialects\n",
    "df['dialect'].nunique()"
   ]
  },
  {
   "cell_type": "code",
   "execution_count": 7,
   "metadata": {
    "colab": {
     "base_uri": "https://localhost:8080/",
     "height": 781
    },
    "id": "Mq097kH4da8t",
    "outputId": "ca6b08cb-0f7e-4da8-ded1-6b9b4c86015a"
   },
   "outputs": [
    {
     "name": "stdout",
     "output_type": "stream",
     "text": [
      "EG    57636\n",
      "PL    43742\n",
      "KW    42109\n",
      "LY    36499\n",
      "QA    31069\n",
      "JO    27921\n",
      "LB    27617\n",
      "SA    26832\n",
      "AE    26296\n",
      "BH    26292\n",
      "OM    19116\n",
      "SY    16242\n",
      "DZ    16183\n",
      "IQ    15497\n",
      "SD    14434\n",
      "MA    11539\n",
      "YE     9927\n",
      "TN     9246\n",
      "Name: dialect, dtype: int64\n",
      "\n",
      " -  -  -  -  -  -  -  -  -  - \n",
      "\n"
     ]
    },
    {
     "data": {
      "text/plain": [
       "<AxesSubplot:>"
      ]
     },
     "execution_count": 7,
     "metadata": {},
     "output_type": "execute_result"
    },
    {
     "data": {
      "image/png": "[encoded data removed]",
      "text/plain": [
       "<Figure size 648x432 with 1 Axes>"
      ]
     },
     "metadata": {
      "needs_background": "light"
     },
     "output_type": "display_data"
    }
   ],
   "source": [
    "# number of records per each dialect\n",
    "print(df['dialect'].value_counts())\n",
    "print('\\n' + ' - '*10 + '\\n')\n",
    "plt.figure(figsize=(9,6))\n",
    "df['dialect'].value_counts().plot(kind='bar')"
   ]
  },
  {
   "cell_type": "markdown",
   "metadata": {
    "id": "G9ye-BbYerC-"
   },
   "source": [
    "- imbalanced Dataset"
   ]
  },
  {
   "cell_type": "code",
   "execution_count": 8,
   "metadata": {
    "colab": {
     "base_uri": "https://localhost:8080/"
    },
    "id": "1TQmqaNvd1h9",
    "outputId": "72ded153-7414-4de5-bc3e-680bd76e432d"
   },
   "outputs": [
    {
     "name": "stdout",
     "output_type": "stream",
     "text": [
      "index 287950: المشكلة فعلا ان إنت مبقتش عارف تبدا منين. مبقتش لاقي نفسك\n",
      "ضايع..مليون حاجة بتوقفك مليون حاجة بتشدك لتحت اكتر..\n",
      "وانت بقيت اضعف من انك تقاوم.\n",
      "index 331123: @Newq8bride ايييي قاعده اعدهم! وحده عدد كومنتاتها ١٩٠\n",
      "عدد الكومنتات الصجيه ٣٤\n",
      "index 310354: يلي بيسأل عنك مين.. بدنا نقلو إنت مييينك 💛 و #نصرالله_أشرف_منن 😌 https://t.co/RkocARKppA\n",
      "index 33972: @fn86QP1OfTDstuQ من هذا المتخلف    فكر متحجر جامد  وان ركب الطيارة   امراض نفسية\n",
      "index 20629: @Majeedeeb @5lishaa الله يبارك فيك ياغالي عليا راك تغيب ايوه\n",
      "index 123451: يا جماعة هادا الراجل مجنووووووووووون ,, والله العظيم مجنون ,, \n",
      "\n",
      "مش هيك يا اخي :/ الله ينكبهم اليهود يا شيخ :P\n",
      "index 24425: مفكره نفسها تلعب مع صديقتها تستاهل ليش تاخذ ولدها ههههه😂😂😂😂😂😂 https://t.co/OSQqheTmwO\n",
      "index 369408: @eid_alshammariq كلك ذوق ربي يحفظك والدينك الجنه 🌹🌹\n",
      "index 392936: @reham_rna ما بتحصلي الخازوق حقي\n",
      "index 215115: @s2006t2013 @Uiob7 @ucMEMRpIpmKgbTD @hilalstuff قُصي فواز بالتيشرت النصراوي\n",
      "index 445269: @FaisalDepp قلت الي في بالي\n",
      "index 159866: عنجد في ناس ما عمرك شفتهم وجه لوجه بس بوقفوا جمبك وبهمهم امرك ومستعدين يساعدوك بكل اشي بقدروا عليه .. هدول الناس متل الذهب. #الحمدلله\n",
      "index 287312: ما تاخدها على إننا مقعدين امريكا من المغرب ، بلاش تاخدها على إن أمريكا موقفانا ومذنبانا  كلنا من الصبح 😂😂\n",
      "index 259019: حضرتك أنا بفتح تويتر من أيام ما كان الأڤاتار بيضة والريتويت اسبراي واللايك ڤيڤوريت والبنات كاتبين No DM كنوع من البرستيچ ومكنش الأڤاتار بينزل ف تويت و الـGIF كان اختراع الخلايجة قارفين ابونا بيه بهشتاج بحة الياسمين و مكنش فيه نايت مود ولا لايف ف اصحى لا تتغفل\n",
      "index 454291: @Mohdalmulla67 الله يحفظة ويطول بعمرة ويحفظ شعب الكويت عيال عمنا ويوحد خليجنا على كلمة لاإلة إلآالله وعلى قلب رجل واحد\n",
      "index 106016: نفس الشيشة تبع الصبح اله طعم تاني😍\n",
      "index 425601: @__9S1 @ms_iii1 😂😂😂😂 ما أحب السواقه شو أسوي\n",
      "index 170807: كمية كره كبيرة ججداً لفئة من الناس اللي بتقول ما الك دخل بسوالف غيركو ! \n",
      "ماشي في شغلات ما الي بيهاا ابداً ابداً \n",
      "\n",
      "بس اغلااط وسوالف هبد بهبد الواحد ما بقدر يسكت عنهااا لو شو ما كانت . 🤚\n",
      "\n",
      "مدام عامل بورفايلك للجميع بدك تستحمل ✌️😊\n",
      "index 359231: @PlusKuwait حلو خوش خبر  يله احترقتوا انتوا اهم شي العراق 🤒🥵\n",
      "index 420634: @AlthaniSuhaim المشكله يا كلب تميم انا ما ابي اغلط على امك او ابوك لانهم مع زايد الخير . بس انت طلعت بغل اردوغان وايران . فحرام اغلط عليهم. اما انت عقابك بعدين يا كلب مع ان الكلب اطهر منك\n",
      "index 161844: و الله مسلسل جميل ليش الحكي 😂\n",
      "يلا بدي الجزء الخامس .. و احكو مع مخرج باب الحارة يحكيلهم وسيلة يرجعو جون 🤦🏻‍♀️ https://t.co/PeGx2ZfCuy\n",
      "index 49358: @smsm071990 للعلم حاجة زي هذي تبرد عالخاطر \n",
      "إن لو الشخص ما خذاش حقه من اللي ظلموه في الدنيا حياخذه بإذن واحد أحد في الآخرة\n",
      "index 452111: الــوقت مــايرحم ولا فيه مرحــوم\n",
      " ومــن لايدل الدّرب محــدن يدلّـه ..\n",
      "\n",
      "لـو صحت بالصـوت وتقول مظلوم\n",
      " حطّــولك الحسّـــاد سبعيــن علّـه ..\n",
      "\n",
      " خل الثّقه بالنّفس وإحذر من القوم\n",
      "وإللّــي تشوفـه يجرح النّفـس خلّـه ..\n",
      "index 158918: خلّيه يطّلع على مصايبك 🤦🏼‍♀️ https://t.co/LorvheBPQL\n",
      "index 56575: @nasser19999 انا بس احاتي اميرنا اذا صح الخبر اشلون بيقعد قدامه حمود ريكي . وجهه يجيب المرض و اللوعه\n",
      "index 409022: كايو حرام يخليك تحبه لكمن مباراة .. لازم يخليك تندم على مدحك\n",
      "index 324256: @Rabi3_sh @Fadi_Ghosn1 ماخص البيرة المشكلة بالصبي\n",
      "index 173134: دي واضحة زي الشمس .. وقلبك قالها بهمس\n",
      "انك بتدوب في هوايا .. وبتحلم تبقى معايا \n",
      "طب ليه بتقول العكس !!؟ http://t.co/sSSZwUA5Zs\n",
      "index 380898: @BadriyaALAbri 🌚 من وين اشوفه البصل انا\n",
      "\n",
      "محرومة يختشي\n",
      "index 410282: @Alzaabi_MS @MJalkaabi بس الموضوع هذا فيه سمعة الدولة. قبل فترة بسيطة كانوا يتكلمون عن المتهاون في حق المنتخب كأنه جندي هارب من المعركة. تصور لو جندي يسوي اللي يقولون إن اللاعب سواه..\n",
      "index 450231: @latif423 والله لو تجرأت وزارة الخارجية فبتكون ضربة معلم من الدرجة الاولى \"والرصاصة اللي ماتصيب...شتسوي!\n",
      "index 27989: @HamadiElareibi ما نعرفش نولع اندياترو يا شاب ما يصير شي من كسرة الستوب\n",
      "index 92603: حدا زعل ؟! حدا تأثر؟! حدا حس بالحرقة ونفسه يعيط لما بشوف أرضه بتضيع منه والكل بتفرج!!\n",
      "بلا #القدس بلا #فلسطين بكفينا اللي فينا https://t.co/JcB9jwNbNq\n",
      "index 391676: @justSDN قالو ٢٦٠ مليون متين بقت ٢٠ مليون ..🤭🤭🤭\n",
      "\n",
      "ربنا دا ليه حاجات يا جدع\n",
      "index 322766: @HichamHaddad57 @bassamturk يعني محورالمقاومۃ لازم يضلّ مغطّی؟\n",
      "index 336479: مادري الواحد شلون بيهد هالهوا الحلو و ريحة الزفرة على السيف ويسافر!\n",
      "index 176808: @jamal_arif1 @Turki_alalshikh @NawafAlmugairen ملينا وحنا ننتظر النهائي 😩\n",
      "index 14154: @8WuX8t2oA3DHrXe @marhsnaljbwry41 @WtG0tMgYlEeBA7m @14JYUDGr5IyRcEv @AlhurraIraq اكيد انا ما معترض على هذا الشي بالعكس اشجع عليه.. واهل البصرة ما قصروا تظاهروا وحدهم وماخلوا اي عمامة تتدخل ✌️\n",
      "index 383237: @Jomana11234 جيبيها انتي ومالك الا طيبة الخاطر\n",
      "index 5743: السعودي يتزوج اجنبية والسعودية لايتزوجها سعودي فيتزوجها الاجنبي غصبا على ال سعود الانجاس . #سوري_يساوم_سعوديه_علي_شرفها\n",
      "index 357039: @Gogowa عادة هالمشاكل تصير لان النظام مصمم للتعامل مع عدد اقل بكثير من الطلبة والشعب والتعقيدات، ما ادري شنو وضع نظام التسجيل في الجامعة، اذا نفسه اللي على أيامي فهي مصيبة والله يعين قسم التسجيل، المفروض ادارة الجامعة تسعى لحل هذي المشكلة باستخدام برنامج كمبيوتر.\n",
      "index 190006: @warda2298 لا راه كاين معامن وهاد النجاح ديال المقاطعه حيد هاد المقوله ديال كبور شويه هههه غير هو بنادم هنا في تويتر كيكتب خارج الهاشتاق وكيعبر غير في حسابو وهاذا ماكيخليش الهاشتاق يطلع خاص غير شويه التواصل بين المغاربه وكولشي يغرد داخل الهشتاق ولو غير بتغريدتين\n",
      "index 334035: والمشكله مادري متى الوقت المناسب اني ارفع راسي 😂 https://t.co/UiuC5Z9V0B\n",
      "index 140784: @MohammedAssaf89 ربي ينصرها البطله اصليه\n",
      "index 119898: @09_bona هدا الحل الي حيصير :D ، اهااا شكلك هيك بتعملي في مامتك ;) حوز :P\n",
      "index 344482: عطله٣شهور يا وزير التربيه ما عرفت اتسنع مدارس اعيالنا ليش!\n",
      "دايما الحكومه حزة الحزه تبي تنجز والمشكله علمتوا الشعب معاكم ينجز بس حزة الحزه!\n",
      "index 274491: يا ريت يا لاعيبة الزمالك النهاردة اللي يجيله فرصه يجيبها جول علشان مختار ده برميل رخامة و هيقرفنا\n",
      "index 92854: مين سمع خطبة الهباش اليوم وعنده تسجيلها؟\n",
      "index 110948: @ZMudalla صباخ الفل والياسمين أحلى زهدي\n",
      "index 199369: @yusefalalawnah الخسارة هذة العقل اللتي فوق  رؤسهم  ياحسافة لبسها مفروض بدالها جزم\n"
     ]
    }
   ],
   "source": [
    "# explore a random sample of 50 texts in our dataset\n",
    "sample_index = df['text'].sample(50).keys()\n",
    "\n",
    "# print each text \n",
    "for index in sample_index:\n",
    "    text = df['text'].iloc[index]\n",
    "    print(f'index {index}: {text}')"
   ]
  },
  {
   "cell_type": "code",
   "execution_count": 9,
   "metadata": {
    "colab": {
     "base_uri": "https://localhost:8080/"
    },
    "id": "BE52J5ovnn_-",
    "outputId": "5f9644e6-d9a1-4461-b0e8-7c515f9e3aaf"
   },
   "outputs": [
    {
     "name": "stdout",
     "output_type": "stream",
     "text": [
      "index 244532: @Mohooll شنو لا 😒قلت اسمي قمر\n",
      "index 233751: @SouihatKhaled ربي يشفيه ويعافيه ان شاء الله\n",
      "index 231613: #بيت_الكل يا زينة 😍\n",
      "@amelbouchoucha\n",
      "index 241418: @misoufifi @Mina_Atta_ وانا واش نقول راجعلي ماعرفت نقول احلى والا اسوء ذكرياتي\n",
      "index 236094: ماندي:\n",
      "قديورة ماتخلينيش وحدي 😜\n",
      "index 233371: أنتَي اوجاعي الحِلوه وغلطتي الصَح❤️.\n",
      "انا مغرم ☺\n",
      "index 234021: @faisal_aguero9 مدافع مكافح ومحارب اكتشاف مهم\n",
      "index 236087: @NourAlgeria2 نوجد روحي،،،العام لي فات راطيتو ميش من عوايدي 😥\n",
      "index 238095: @La__farf_alla اللهم امين يارب 🤲\n",
      "ربي يحفظك ختيتو 😘\n",
      "صباح الورد 🌺🌹\n",
      "index 231082: @OsmaniAbdessam1 خليك ملي يحبو يزيدو عليها 😂\n",
      "index 236210: @ahmed_radaideh جميل جدا هو والسيروكو\n",
      "index 244436: @rihababb @Sarah41560955 عادي شو نعمللهت 🤔 لو افريم كنت طرت من لفرح\n",
      "index 242321: ههه يهاوش جمهوره ويشكرهم ف نفس الوقت هههههه اروع جمهور ما يزعلون ههه #سنابات_غازي_المطيري\n",
      "index 236564: @Walaa1720 فاتك ماتش كبييير يابنتي فيلم بوليسي فيلم اكشن فيلم رعب مش عارفة اقووووول اييه\n",
      "index 236058: التاااالت يا صاحبي يا صاحبي 🖤⚽️💚\n",
      "index 230113: @zakialasmai @sadaalmalaeb بونجاح لم يلبس هذا النوع تيشرت\n",
      "index 242739: @Marooqo2 قال اذا نسيت حدا ذكروني\n",
      "index 236237: @lilalil47675175 هي معدن الإنسان عمره مايتغير\n",
      "index 244228: تدري ولا ما تدري \n",
      "#نوال_الكويتيه_في_جده\n",
      "index 239866: @elayaso1 احنا احرار ومن حقنا ولادنا يقراو ويهدرو بلغتهم مش بالعربية و حطي في بالك فاقد الهوية مستحيل يعمل خطوة للأمام ! الشعب تاعنا حاصل قاعد يشيت للعرب باش يحس بالانتماء وفي اول نقاش مع عريبوشي يقولو انت مستعرب مش منا !\n"
     ]
    }
   ],
   "source": [
    "# let's discover the western arabian countries that speak Arabic with French\n",
    "## Algeria\n",
    "sample_index = df[df['dialect']=='DZ']['text'].sample(20).keys()\n",
    "\n",
    "# print each text \n",
    "for index in sample_index:\n",
    "    text = df['text'].iloc[index]\n",
    "    print(f'index {index}: {text}')"
   ]
  },
  {
   "cell_type": "code",
   "execution_count": 10,
   "metadata": {
    "colab": {
     "base_uri": "https://localhost:8080/"
    },
    "id": "iRaB8LPJopz4",
    "outputId": "27025f5f-e2b9-420d-dbf5-9ea506a3cbcf",
    "scrolled": false
   },
   "outputs": [
    {
     "name": "stdout",
     "output_type": "stream",
     "text": [
      "index 144072: @MervatSedik اهي 😁😁😁\n",
      "وغلاف المرتبة باظ \n",
      "وشكلي هتعلق https://t.co/dl66Dqe1jQ\n",
      "index 150916: #staracarabia عباس بصراحة طور برشا علي اول مادخل ويستاهل يوصل للفينال الحق يقال ربي يوفقهم الكل الحد الان الكل عجبوني ربي يكمل نسوم علي خير\n",
      "index 148156: من هوني لآخر العام حاسس إلي باش يولـيو يطيشولنا في شكاير الروز و المقرونة بالطيارات \n",
      "#تفائل\n",
      "🤣🤣🤣🤣🤔🤨🙄\n",
      "index 151990: كما غنت أم كلثوم : إنت فين و الحب فين https://t.co/5MXfGQHhIL\n",
      "index 145784: @shadounSelmi موش اول مرة صار هي 😂\n",
      "ربي يشفيها 🤣🤣\n",
      "index 147049: تحبوا تفهموا قضية التجسس اللي مقيمة القيامة؟ وتحبوا تفهموا علاقة هذا بكلام الغنوشي على الحرب الأهلية وتهديد وسائل... https://t.co/kLf3Kz2n6m\n",
      "index 145849: @adore_u_elissa @elissakh مرحبا بيكم على راسي من فوق😍❤️\n",
      "راكم تعبتوا برشا سخانة  و المدن بعاد على بعضهم😭\n",
      "index 147211: هوساوي التبن الكوره سهله ليش التشتيت\n",
      "index 146380: @mohamedmusic6 @wafaamohammed6 @KsaUvi @mossabry انا عن نفسي عندي مبدأ الباقي أحرار هم ينحملو ما يقولون \n",
      "وبعدين احنا نناقش شي معين ما دخل الرؤساء بالموضوع \n",
      "على العموم فكرتك وصلت شكرا ✋\n",
      "index 151853: @officialmasry1 اللي ما يحب  العيب و الحرام ما يعملش مهرجانات من اصلو في اماكن مقدسة ، تعطوهم الفرصة و تمهدولهم الطريق و بعد تحبسوهم !\n",
      "index 148663: @Boukacheche_TN مخبي راسو حتى يعرف اناهو شق بش يريح، الدنيا مع الواقف\n",
      "index 146663: @BenchaaMa يا اختي هذاكة مريض نفسي وحرام أصل إدارة تويتر تخليه الكل لازم  نعملو سينيال وخليه يتربى \n",
      "لو راجل وعنده نيف الرجولة ماكان تشرد في ألمانيا وبلادو تعيش حرب \n",
      "لكن أشباه  الرجال لا يمكن أن بحترمو حد \n",
      "زيد المريض عندو كلاش كبير مع توانسة هذاكة علاش سببولو عقدة مستديمة 😂\n",
      "index 144739: تعالي اشبعي بيها وخدوها كمان لو عايزين \n",
      "بلد الهم والقرف\n",
      "خودوها \n",
      "انا متنازلة عليها https://t.co/EwINApaAXD\n",
      "index 150799: شو حلو يكون في شب متل مخول \"مايكل\" بحياتك #ام_البنات \n",
      "@jerryghazal @CarineRizcallah\n",
      "index 144443: @khaliddesoky1 😂 طب حضرتك انا بمشي ع رجلي من بيتنا للمحطة بتاعت ربع ساعة كدة مشي سريع ومن العاصمة لمكان الي انا بروحه عشان احضر وادرس فيه بتاع 30 دقيقة ومشي سريع برضو 😢 مش حرام يعني اطلع ف القطر وافضل واقفة فيه بتاع 20 دقيقة والي معاهم عربيات قاعدين على كراسي\n",
      "index 147377: الجبرين ثور وحمار ماراح يتعلم\n",
      "index 148266: باسنين اللي رح ترجعيلي ...ارجعيلي شي مرة ارجعيلي  \n",
      "#فيروز\n",
      "index 147908: الفريدي صاير سريع ؟؟ \n",
      "هذاهدف الليو\n",
      "index 145438: تو علاش ما نتفكرو القانون عدد 52 (العام و فيسبا) كان ما يتشد مثقف أو فنان أو شخصية في ها البلاد ؟\n",
      "ياخي ناسين ال... https://t.co/I1dWG1CUAW\n",
      "index 146382: @latisol الله يفرح قلبك دايما لطوف 😍\n"
     ]
    }
   ],
   "source": [
    "## Tunisia\n",
    "sample_index = df[df['dialect']=='TN']['text'].sample(20).keys()\n",
    "\n",
    "# print each text \n",
    "for index in sample_index:\n",
    "    text = df['text'].iloc[index]\n",
    "    print(f'index {index}: {text}')"
   ]
  },
  {
   "cell_type": "code",
   "execution_count": 11,
   "metadata": {
    "colab": {
     "base_uri": "https://localhost:8080/"
    },
    "id": "ab2BaJgvopid",
    "outputId": "1ecd850d-9efd-48f9-baf0-515d632a3023"
   },
   "outputs": [
    {
     "name": "stdout",
     "output_type": "stream",
     "text": [
      "index 181819: @monaliza5555 كاينة بعدا باش يكون عندها شي علم 😋 وراه ما كاين غير الافتراس خصوصا البابوش ممفكش انا وياه\n",
      "index 183620: @faracha75153290 علاش 😕انا ديما حاضرة 🤷‍♀️نتي اللي غابرة اش خبارك لاباس توحشتك 😘😘😘\n",
      "index 191712: #اكله_مغربيه_جديده البسطيلة بالكرعين😜\n",
      "index 183296: @Aichaa__r راه هاذشي كان كيجيني غير تخاريف حتى لقيتها عندها في العاىلة وانا اخر وحدة تعرف😭😭😭😭😭😭\n",
      "index 182156: @salmajd1 @Boughttat اولا ناس الرباط معمرهم يغلطوك هدي غير هدره خاوية تانيا أغلب لي يتلفوك في الرباط غير بساجي ماشي ولد الرباط وهدا الامر بحكم تجربتي مع بزااف ناس وفي الاخير طلع لي منعت ليهم غير جاي من قنت آخر مثلا تماره الصخيرات عين عودة القنيطرة ...\n",
      "index 189229: @shadi778855 @dhaferlabidine ممثل غبي قال يعني عامل مسلسل لبناني على اساس العالم العربي بيتفرج على مسلسات لبنانية\n",
      "index 190103: الليله \n",
      "Traduction مالكم مع \n",
      "والروسيه هههههه هباليتو مسبقين الفرح بليله\n",
      "index 180338: @MaghribiaBlfor شكون قاليك هاد الهضرة ... انا مغربي و كانشجع النصر السعودي 🔥🔥🔥\n",
      "index 182873: @SaadNBB هربو هربو، اش غادي ياخدو؟؟!!\n",
      "index 188052: @Amin777adam @FSoubai واش ما حاسش انه كينزل من قيمته راه فنان عنده اكثر من 10سنين يتقارن مع سعد ودوزي وشوقي وهو نازل تبحليس مع سحلية وفانزها\n",
      "index 181271: @A_s_d1988 مدري طاحت او انسرقت ماابي اخد ذنوب احد😞\n",
      "index 183613: @faracha75153290 مممممممم 🤔ههههه زوينة هاذ الاغنية معرفتش شكون ؟\n",
      "index 184435: @Anass_ALMagribi @abdulmonaim الفاكونس دوزتو فسبيتار هههههه حيت درت عملية والحمد لله انا بيخير دبا مي مزال ما حيدت الغراز ههههههه\n",
      "index 184259: @ro9ayadagadir @RoseAfaf @ostuk77 @nouramekouar @fayrouzas @hindrachid12. رقية عندك واتس ربي،يخليك اختي\n",
      "index 182583: ماتشات هاد الاسبوع ممله مكرهناش شي ماتش بحال ديال 🇸🇦🇸🇦🇸🇦🇸🇦🇸🇦😔\n",
      "index 187365: @Elamrani1718 الليسانيات فگاع اللغات معقدة شوية..\n",
      "خصها الدماغ اللي كيفهم الماط\n",
      "index 190063: @aziz_hinni \n",
      "وصافي ايلا القضية حامضة عندو حتى لهاذ الدرجة ماتبقاش طيب الخبز يشريه يوميا ويهنيها ويهني راسو ويهنينا حتى حنا هههههه\n",
      "index 189963: @saidfehd 😂😂راه مطلوقه المسخوطه الليله اجا مايشدها حتى نربطوها\n",
      "index 186191: @hanadi__h @hassna12hassn @chica___2 المشكلة انا السلعة عندي متلقهاش كاينة كنجيب بياسة وحدة من الحاجة وحد متلبس بحال لوخرى😂😂😂😂\n",
      "index 187929: @FCB1982101 @AkhbarNojooom 😂😂فعلا نقد مؤدب ماشفناش هاد الشي مع ولاد بلادو اهاب ودنيا وغيرهم 😏مع انه كلامه مافيه حتى تجريح ساعة كلاوه😂\n"
     ]
    }
   ],
   "source": [
    "## Morocco\n",
    "sample_index = df[df['dialect']=='MA']['text'].sample(20).keys()\n",
    "\n",
    "# print each text \n",
    "for index in sample_index:\n",
    "    text = df['text'].iloc[index]\n",
    "    print(f'index {index}: {text}')"
   ]
  },
  {
   "cell_type": "markdown",
   "metadata": {
    "id": "B0FJN0XpmAfl"
   },
   "source": [
    "#### Notes\n",
    "- Text must be cleaned and normalized\n",
    "  - remove newlines & tabs '\\n & \\t'\n",
    "  - remove tags & hashtags\n",
    "  - remove emojis\n",
    "  - remove links\n",
    "  - remove punctuations\n",
    "  - remove diacritics\n",
    "  - remove numbers 'if exists'\n",
    "  - remove English text 'if exists'\n",
    "  - remove text elongation like 'ااااا & ههههه & ـــ'\n",
    "  - text normalization\n",
    "  - remove extra whitespaces\n",
    "  \n",
    "\n",
    "- Data should be balanced\n",
    "\n",
    "##### N.B: Stopwords in most cases should be deleted, but in our case not preferred, as it has main words to differentiate between dialects such as months name and it's usage, so we will keep it."
   ]
  },
  {
   "cell_type": "markdown",
   "metadata": {
    "id": "WEVfoG6_qGC6"
   },
   "source": [
    "### Data Cleaning and Text Normalization"
   ]
  },
  {
   "cell_type": "markdown",
   "metadata": {
    "id": "5779lM5I8j6k"
   },
   "source": [
    "#### Remove Newlines & Tabs '\\n & \\t'"
   ]
  },
  {
   "cell_type": "code",
   "execution_count": 12,
   "metadata": {
    "id": "6nXtJYN38uZA"
   },
   "outputs": [],
   "source": [
    "# create function\n",
    "def remove_newlines_tabs(text):\n",
    "    return ' '.join(text.replace('\\n', ' ').replace('\\t',' ').split())"
   ]
  },
  {
   "cell_type": "code",
   "execution_count": 13,
   "metadata": {
    "colab": {
     "base_uri": "https://localhost:8080/"
    },
    "id": "evSvDhlI85Gv",
    "outputId": "57460358-22f5-4f6a-bf02-59a6d44c2ab2"
   },
   "outputs": [
    {
     "name": "stdout",
     "output_type": "stream",
     "text": [
      "Before: رح ياكلها ماجد ليوم #بروفا \n",
      "@Wissam_Sabbagh\n",
      "After: رح ياكلها ماجد ليوم #بروفا @Wissam_Sabbagh\n"
     ]
    }
   ],
   "source": [
    "# test function\n",
    "print('Before:', df['text'][150661])\n",
    "print('After:', remove_newlines_tabs(df['text'][150661]))"
   ]
  },
  {
   "cell_type": "code",
   "execution_count": 14,
   "metadata": {
    "id": "XxWFikq-_Msr"
   },
   "outputs": [],
   "source": [
    "# apply on dataframe\n",
    "df['text'] = df['text'].apply(remove_newlines_tabs)"
   ]
  },
  {
   "cell_type": "markdown",
   "metadata": {
    "id": "7-N03POSqYwg"
   },
   "source": [
    "#### Remove Tags & Hashtags"
   ]
  },
  {
   "cell_type": "code",
   "execution_count": 15,
   "metadata": {
    "id": "nw96NVq9k-2W"
   },
   "outputs": [],
   "source": [
    "# create function\n",
    "def remove_tages_hashtags(text):\n",
    "    \n",
    "    tag_hashtag_prefixes = ['@','#']\n",
    "\n",
    "    # remove tags and hashtags\n",
    "    words = []\n",
    "\n",
    "    for word in text.split():\n",
    "        word = word.strip()\n",
    "        if len(word) != 1:\n",
    "            if word[0] not in tag_hashtag_prefixes and word[1] not in tag_hashtag_prefixes: \n",
    "                words.append(word)\n",
    "        else:\n",
    "            if word[0] not in tag_hashtag_prefixes:\n",
    "                words.append(word)\n",
    "    return ' '.join(words)"
   ]
  },
  {
   "cell_type": "code",
   "execution_count": 16,
   "metadata": {
    "colab": {
     "base_uri": "https://localhost:8080/"
    },
    "id": "a4KF701u73L-",
    "outputId": "fe603d48-33bd-45fe-96af-3c1cd703e2f5"
   },
   "outputs": [
    {
     "name": "stdout",
     "output_type": "stream",
     "text": [
      "Before: رح ياكلها ماجد ليوم #بروفا @Wissam_Sabbagh\n",
      "After: رح ياكلها ماجد ليوم\n"
     ]
    }
   ],
   "source": [
    "# test function\n",
    "print('Before:', df['text'][150661])\n",
    "print('After:', remove_tages_hashtags(df['text'][150661]))"
   ]
  },
  {
   "cell_type": "code",
   "execution_count": 17,
   "metadata": {
    "id": "Xn9CJ90N8Bad"
   },
   "outputs": [],
   "source": [
    "# apply on dataframe\n",
    "df['text'] = df['text'].apply(remove_tages_hashtags)"
   ]
  },
  {
   "cell_type": "markdown",
   "metadata": {
    "id": "omMjIOuX_fmL"
   },
   "source": [
    "#### Remove Emojis"
   ]
  },
  {
   "cell_type": "code",
   "execution_count": 18,
   "metadata": {
    "id": "jyos2aK5_ezL"
   },
   "outputs": [],
   "source": [
    "# create function\n",
    "def remove_emojis(text):\n",
    "    return emoji.replace_emoji(text, '').replace('☻', ' ')"
   ]
  },
  {
   "cell_type": "code",
   "execution_count": 19,
   "metadata": {
    "colab": {
     "base_uri": "https://localhost:8080/"
    },
    "id": "jFK0BuOPAjfh",
    "outputId": "f7d9cc51-3a0b-48d5-bf0b-d56338047236"
   },
   "outputs": [
    {
     "name": "stdout",
     "output_type": "stream",
     "text": [
      "Before: ☻☻☻ احم امولا نوبة 😹😹😹 https://t.co/uukomfZVRG\n",
      "After:     احم امولا نوبة  https://t.co/uukomfZVRG\n"
     ]
    }
   ],
   "source": [
    "# test function\n",
    "print('Before:', df['text'][188519])\n",
    "print('After:', remove_emojis(df['text'][188519]))"
   ]
  },
  {
   "cell_type": "code",
   "execution_count": 20,
   "metadata": {
    "id": "Kt6fMTtPE2D4"
   },
   "outputs": [],
   "source": [
    "# apply on dataframe\n",
    "df['text'] = df['text'].apply(remove_emojis)"
   ]
  },
  {
   "cell_type": "markdown",
   "metadata": {
    "id": "EBaWP6HVE2XW"
   },
   "source": [
    "#### Remove Links"
   ]
  },
  {
   "cell_type": "code",
   "execution_count": 21,
   "metadata": {
    "id": "S1ZEptNdFAyU"
   },
   "outputs": [],
   "source": [
    "# create function\n",
    "def remove_links(text):\n",
    "    return re.sub(r'https?:\\/\\/.*[\\r\\n]*', '', text)"
   ]
  },
  {
   "cell_type": "code",
   "execution_count": 22,
   "metadata": {
    "colab": {
     "base_uri": "https://localhost:8080/"
    },
    "id": "cQIwsUkkFDdc",
    "outputId": "137e89e4-bce8-4127-d832-8d4bdf0a6167"
   },
   "outputs": [
    {
     "name": "stdout",
     "output_type": "stream",
     "text": [
      "Before:     احم امولا نوبة  https://t.co/uukomfZVRG\n",
      "After:     احم امولا نوبة  \n"
     ]
    }
   ],
   "source": [
    "# test function\n",
    "print('Before:', df['text'][188519])\n",
    "print('After:', remove_links(df['text'][188519]))"
   ]
  },
  {
   "cell_type": "code",
   "execution_count": 23,
   "metadata": {
    "id": "Az_AIv48FDNj"
   },
   "outputs": [],
   "source": [
    "# apply on dataframe\n",
    "df['text'] = df['text'].apply(remove_links)"
   ]
  },
  {
   "cell_type": "markdown",
   "metadata": {
    "id": "IcMxro0GG-qo"
   },
   "source": [
    "#### Remove Punctuations"
   ]
  },
  {
   "cell_type": "code",
   "execution_count": 24,
   "metadata": {
    "id": "8vWs0GiMG-qq"
   },
   "outputs": [],
   "source": [
    "# create punctuations list\n",
    "arabic_punctuations = '''`÷×؛<>_()*&^%][ـ،/:\"؟.,'{}~¦+|!”…“–ـ»«•'''\n",
    "english_punctuations = string.punctuation\n",
    "punctuations_list = arabic_punctuations + english_punctuations\n",
    "\n",
    "# create function\n",
    "def remove_punctuations(text):\n",
    "    for punc in punctuations_list:\n",
    "        text = text.replace(punc, '')\n",
    "    return text"
   ]
  },
  {
   "cell_type": "code",
   "execution_count": 25,
   "metadata": {
    "colab": {
     "base_uri": "https://localhost:8080/"
    },
    "id": "soIOIU1CG-qr",
    "outputId": "c62c32f2-1c78-44d3-b8c8-0d612aa2cb69"
   },
   "outputs": [
    {
     "name": "stdout",
     "output_type": "stream",
     "text": [
      "Before: آفا !!! اشتغلت على لسعوديين ربعك !!؟ معروف نيتكم من الاول تدمير السعودية .\n",
      "After: آفا  اشتغلت على لسعوديين ربعك  معروف نيتكم من الاول تدمير السعودية \n"
     ]
    }
   ],
   "source": [
    "# test function\n",
    "print('Before:', df['text'][79684])\n",
    "print('After:', remove_punctuations(df['text'][79684]))"
   ]
  },
  {
   "cell_type": "code",
   "execution_count": 26,
   "metadata": {
    "id": "yUJwBXk1G-qs"
   },
   "outputs": [],
   "source": [
    "# apply on dataframe\n",
    "df['text'] = df['text'].apply(remove_punctuations)"
   ]
  },
  {
   "cell_type": "markdown",
   "metadata": {
    "id": "vKpujEjYKPAT"
   },
   "source": [
    "#### Remove Diacritics"
   ]
  },
  {
   "cell_type": "code",
   "execution_count": 27,
   "metadata": {
    "id": "Fg_9q8OsKPAU"
   },
   "outputs": [],
   "source": [
    "# all diacritics\n",
    "arabic_diacritics = re.compile(\"\"\"\n",
    "                             ّ    | # Tashdid\n",
    "                             َ    | # Fatha\n",
    "                             ً    | # Tanwin Fath\n",
    "                             ُ    | # Damma\n",
    "                             ٌ    | # Tanwin Damm\n",
    "                             ِ    | # Kasra\n",
    "                             ٍ    | # Tanwin Kasr\n",
    "                             ْ    | # Sukun\n",
    "                             ـ     # Tatwil/Kashida\n",
    "                         \"\"\", re.VERBOSE)\n",
    "\n",
    "# create function\n",
    "def remove_diacritics(text):\n",
    "    return re.sub(arabic_diacritics, '', text)"
   ]
  },
  {
   "cell_type": "code",
   "execution_count": 28,
   "metadata": {
    "colab": {
     "base_uri": "https://localhost:8080/"
    },
    "id": "WUzUHr5tKPAU",
    "outputId": "fe72e0a4-ca0b-4588-852a-1d5e647c92c1"
   },
   "outputs": [
    {
     "name": "stdout",
     "output_type": "stream",
     "text": [
      "Before: توا وصلنا ل 67 مترشح للانتخابات الرئاسية حاجة تفرّح برشا و انا واحد من الناس نطالب باش يزيدو يمدّو في آخر اجل \n",
      "After: توا وصلنا ل 67 مترشح للانتخابات الرئاسية حاجة تفرح برشا و انا واحد من الناس نطالب باش يزيدو يمدو في آخر اجل \n"
     ]
    }
   ],
   "source": [
    "# test function\n",
    "print('Before:', df['text'][145545])\n",
    "print('After:', remove_diacritics(df['text'][145545]))"
   ]
  },
  {
   "cell_type": "code",
   "execution_count": 29,
   "metadata": {
    "id": "8c4dqJG4KPAV"
   },
   "outputs": [],
   "source": [
    "# apply on dataframe\n",
    "df['text'] = df['text'].apply(remove_diacritics)"
   ]
  },
  {
   "cell_type": "markdown",
   "metadata": {
    "id": "U9VkaqPRLek_"
   },
   "source": [
    "#### Remove Numbers"
   ]
  },
  {
   "cell_type": "code",
   "execution_count": 30,
   "metadata": {
    "id": "gy5OADxULelH"
   },
   "outputs": [],
   "source": [
    "# create function\n",
    "def remove_numbers(text):\n",
    "    return re.sub('\\d+', '', text)"
   ]
  },
  {
   "cell_type": "code",
   "execution_count": 31,
   "metadata": {
    "colab": {
     "base_uri": "https://localhost:8080/"
    },
    "id": "x1dD27RvLelH",
    "outputId": "04eadd30-b00c-4899-908e-5e04cd6d9cb5"
   },
   "outputs": [
    {
     "name": "stdout",
     "output_type": "stream",
     "text": [
      "Before: ههههههههههههه اهو دقني وشعري دة ميكونش على مرا لو الكلام دة حصل في 2018 ولا حتى 2180 حتى  \n",
      "After: ههههههههههههه اهو دقني وشعري دة ميكونش على مرا لو الكلام دة حصل في  ولا حتى  حتى  \n"
     ]
    }
   ],
   "source": [
    "# test function\n",
    "print('Before:', df['text'][144661])\n",
    "print('After:', remove_numbers(df['text'][144661]))"
   ]
  },
  {
   "cell_type": "code",
   "execution_count": 32,
   "metadata": {
    "id": "FRdkvj3pLelI"
   },
   "outputs": [],
   "source": [
    "# apply on dataframe\n",
    "df['text'] = df['text'].apply(remove_numbers)"
   ]
  },
  {
   "cell_type": "markdown",
   "metadata": {
    "id": "Z9DNKMkKMjUW"
   },
   "source": [
    "#### Remove English Text 'if exists'"
   ]
  },
  {
   "cell_type": "code",
   "execution_count": 33,
   "metadata": {
    "id": "d1ywT5BLMjUx"
   },
   "outputs": [],
   "source": [
    "# create function\n",
    "def remove_english(text):\n",
    "    return re.sub('[A-Za-z]+', '', text)"
   ]
  },
  {
   "cell_type": "code",
   "execution_count": 34,
   "metadata": {
    "colab": {
     "base_uri": "https://localhost:8080/"
    },
    "id": "zmf8V_A2MjUx",
    "outputId": "2cf9f265-5b3c-4785-fd2a-e781ee91ae0b"
   },
   "outputs": [
    {
     "name": "stdout",
     "output_type": "stream",
     "text": [
      "Before: أهلا ومرحبا Weclome to Eg ypt\n",
      "After: أهلا ومرحبا    \n"
     ]
    }
   ],
   "source": [
    "# test function\n",
    "print('Before:', 'أهلا ومرحبا Weclome to Eg ypt')\n",
    "print('After:', remove_english('أهلا ومرحبا Weclome to Eg ypt'))"
   ]
  },
  {
   "cell_type": "code",
   "execution_count": 35,
   "metadata": {
    "id": "9TtbAvanMjUy"
   },
   "outputs": [],
   "source": [
    "# apply on dataframe\n",
    "df['text'] = df['text'].apply(remove_english)"
   ]
  },
  {
   "cell_type": "markdown",
   "metadata": {
    "id": "cfzhdi6bNmOU"
   },
   "source": [
    "#### Remove Elongation"
   ]
  },
  {
   "cell_type": "code",
   "execution_count": 36,
   "metadata": {
    "id": "6yK1zphMNmOU"
   },
   "outputs": [],
   "source": [
    "# create function\n",
    "def remove_elongation(text):\n",
    "    # remove هههه and خخخخ firstly\n",
    "    text = re.sub(r'[ه]{3,}', '', text)\n",
    "    text = re.sub(r'[خ]{2,}', '', text)\n",
    "    \n",
    "    # remove character elongation\n",
    "    text = re.sub(r'[ـ]+', '', text)\n",
    "    \n",
    "    # remove character replicates\n",
    "    return re.sub(r'(.)\\1+', r'\\1', text)"
   ]
  },
  {
   "cell_type": "code",
   "execution_count": 37,
   "metadata": {
    "colab": {
     "base_uri": "https://localhost:8080/"
    },
    "id": "9CzLesMsNmOU",
    "outputId": "20697991-753f-42f3-eea6-b1c6c6f3c2b4"
   },
   "outputs": [
    {
     "name": "stdout",
     "output_type": "stream",
     "text": [
      "Before: لقد كنت ذاهـبــــا الاممس الى السووووق ههههههه\n",
      "After: لقد كنت ذاهبا الامس الى السوق \n",
      "\n",
      "Before: انتظري مصادري عن صفقات النصر الأجنبيه خخخخخ\n",
      "After: انتظري مصادري عن صفقات النصر الأجنبيه \n"
     ]
    }
   ],
   "source": [
    "# test function 147774\n",
    "print('Before:', 'لقد كنت ذاهـبــــا الاممس الى السووووق ههههههه')\n",
    "print('After:', remove_elongation('لقد كنت ذاهـبــــا الاممس الى السووووق ههههههه'))\n",
    "print()\n",
    "print('Before:', df['text'][147774])\n",
    "print('After:', remove_elongation(df['text'][147774]))"
   ]
  },
  {
   "cell_type": "code",
   "execution_count": 38,
   "metadata": {
    "id": "6ya_aOpbNmOV"
   },
   "outputs": [],
   "source": [
    "# apply on dataframe\n",
    "df['text'] = df['text'].apply(remove_elongation)"
   ]
  },
  {
   "cell_type": "markdown",
   "metadata": {
    "id": "k9hVqqH0WVNF"
   },
   "source": [
    "#### Text Normalization"
   ]
  },
  {
   "cell_type": "code",
   "execution_count": 39,
   "metadata": {
    "id": "N9v-lkcAWVNG"
   },
   "outputs": [],
   "source": [
    "# create function\n",
    "def normalize_text(text):\n",
    "    text = re.sub(\"[إأآا]\", \"ا\", text)\n",
    "    text = re.sub(\"ى\", \"ي\", text)\n",
    "    text = re.sub(\"ؤ\", \"ء\", text)\n",
    "    text = re.sub(\"ئ\", \"ء\", text)\n",
    "    text = re.sub(\"ة\", \"ه\", text)\n",
    "    text = re.sub(\"گ\", \"ك\", text)\n",
    "    text = re.sub(\"ڤ\", \"ف\", text)\n",
    "    text = re.sub(\"چ\", \"ج\", text)\n",
    "    text = re.sub(\"ژ\", \"ز\", text)\n",
    "    text = re.sub(\"پ\", \"ب\", text)\n",
    "    return text"
   ]
  },
  {
   "cell_type": "code",
   "execution_count": 40,
   "metadata": {
    "colab": {
     "base_uri": "https://localhost:8080/"
    },
    "id": "nZAZ7cBeWVNH",
    "outputId": "e6d92fc3-8925-4dd7-926c-695175fb11bd"
   },
   "outputs": [
    {
     "name": "stdout",
     "output_type": "stream",
     "text": [
      "Before: الحين إنتي ما تقولين ما لحقتي عليه شلون بتعرفين أسمه چان سألتي الوالدة أو أحد من مواليد الستينات أو يمكن السبعينات \n",
      "After: الحين انتي ما تقولين ما لحقتي عليه شلون بتعرفين اسمه جان سالتي الوالده او احد من مواليد الستينات او يمكن السبعينات \n"
     ]
    }
   ],
   "source": [
    "# test function\n",
    "print('Before:', df['text'][441147])\n",
    "print('After:', normalize_text(df['text'][441147]))"
   ]
  },
  {
   "cell_type": "code",
   "execution_count": 41,
   "metadata": {
    "id": "7GQA2yCcWVNI"
   },
   "outputs": [],
   "source": [
    "# apply on dataframe\n",
    "df['text'] = df['text'].apply(normalize_text)"
   ]
  },
  {
   "cell_type": "markdown",
   "metadata": {
    "id": "N-QKNua9S6ro"
   },
   "source": [
    "#### Remove Extra Whitespaces"
   ]
  },
  {
   "cell_type": "code",
   "execution_count": 42,
   "metadata": {
    "id": "IBP6PVlBTBak"
   },
   "outputs": [],
   "source": [
    "# create function\n",
    "def remove_whitespaces(text):\n",
    "    return ' '.join(text.strip().split())"
   ]
  },
  {
   "cell_type": "code",
   "execution_count": 43,
   "metadata": {
    "colab": {
     "base_uri": "https://localhost:8080/"
    },
    "id": "gmHR6OBtTBap",
    "outputId": "dc73a567-ba29-41ce-e632-1cde446935c3"
   },
   "outputs": [
    {
     "name": "stdout",
     "output_type": "stream",
     "text": [
      "Before: تيكست  مليء    بالمسافات  التي  ليس لها داعي     \n",
      "After: تيكست مليء بالمسافات التي ليس لها داعي\n"
     ]
    }
   ],
   "source": [
    "# test function\n",
    "print('Before:', 'تيكست  مليء    بالمسافات  التي  ليس لها داعي     ')\n",
    "print('After:', remove_whitespaces('تيكست  مليء    بالمسافات  التي  ليس لها داعي     '))"
   ]
  },
  {
   "cell_type": "code",
   "execution_count": 44,
   "metadata": {
    "id": "9zeXmu15TBar"
   },
   "outputs": [],
   "source": [
    "# apply on dataframe\n",
    "df['text'] = df['text'].apply(remove_whitespaces)"
   ]
  },
  {
   "cell_type": "markdown",
   "metadata": {
    "id": "qNit9Ilfkj6C"
   },
   "source": [
    "#### Re-check NaNs & Duplicates After Cleaning"
   ]
  },
  {
   "cell_type": "code",
   "execution_count": 45,
   "metadata": {
    "colab": {
     "base_uri": "https://localhost:8080/",
     "height": 0
    },
    "id": "N787uFH6mn2f",
    "outputId": "a6daab7c-7a73-4926-b670-9493389f1a15"
   },
   "outputs": [
    {
     "data": {
      "text/html": [
       "<div>\n",
       "<style scoped>\n",
       "    .dataframe tbody tr th:only-of-type {\n",
       "        vertical-align: middle;\n",
       "    }\n",
       "\n",
       "    .dataframe tbody tr th {\n",
       "        vertical-align: top;\n",
       "    }\n",
       "\n",
       "    .dataframe thead th {\n",
       "        text-align: right;\n",
       "    }\n",
       "</style>\n",
       "<table border=\"1\" class=\"dataframe\">\n",
       "  <thead>\n",
       "    <tr style=\"text-align: right;\">\n",
       "      <th></th>\n",
       "      <th>dialect</th>\n",
       "      <th>text</th>\n",
       "    </tr>\n",
       "  </thead>\n",
       "  <tbody>\n",
       "    <tr>\n",
       "      <th>1270</th>\n",
       "      <td>IQ</td>\n",
       "      <td></td>\n",
       "    </tr>\n",
       "    <tr>\n",
       "      <th>1317</th>\n",
       "      <td>IQ</td>\n",
       "      <td></td>\n",
       "    </tr>\n",
       "    <tr>\n",
       "      <th>2043</th>\n",
       "      <td>IQ</td>\n",
       "      <td></td>\n",
       "    </tr>\n",
       "    <tr>\n",
       "      <th>2197</th>\n",
       "      <td>IQ</td>\n",
       "      <td></td>\n",
       "    </tr>\n",
       "    <tr>\n",
       "      <th>2425</th>\n",
       "      <td>IQ</td>\n",
       "      <td></td>\n",
       "    </tr>\n",
       "    <tr>\n",
       "      <th>...</th>\n",
       "      <td>...</td>\n",
       "      <td>...</td>\n",
       "    </tr>\n",
       "    <tr>\n",
       "      <th>454965</th>\n",
       "      <td>BH</td>\n",
       "      <td></td>\n",
       "    </tr>\n",
       "    <tr>\n",
       "      <th>456554</th>\n",
       "      <td>BH</td>\n",
       "      <td></td>\n",
       "    </tr>\n",
       "    <tr>\n",
       "      <th>456595</th>\n",
       "      <td>BH</td>\n",
       "      <td></td>\n",
       "    </tr>\n",
       "    <tr>\n",
       "      <th>457751</th>\n",
       "      <td>BH</td>\n",
       "      <td></td>\n",
       "    </tr>\n",
       "    <tr>\n",
       "      <th>457752</th>\n",
       "      <td>BH</td>\n",
       "      <td></td>\n",
       "    </tr>\n",
       "  </tbody>\n",
       "</table>\n",
       "<p>1076 rows × 2 columns</p>\n",
       "</div>"
      ],
      "text/plain": [
       "       dialect text\n",
       "1270        IQ     \n",
       "1317        IQ     \n",
       "2043        IQ     \n",
       "2197        IQ     \n",
       "2425        IQ     \n",
       "...        ...  ...\n",
       "454965      BH     \n",
       "456554      BH     \n",
       "456595      BH     \n",
       "457751      BH     \n",
       "457752      BH     \n",
       "\n",
       "[1076 rows x 2 columns]"
      ]
     },
     "execution_count": 45,
     "metadata": {},
     "output_type": "execute_result"
    }
   ],
   "source": [
    "# check empty text record\n",
    "df[df['text']=='']"
   ]
  },
  {
   "cell_type": "code",
   "execution_count": 46,
   "metadata": {
    "id": "y3ccNJHcoEnG"
   },
   "outputs": [],
   "source": [
    "# remove empty record by selecting the other one\n",
    "df = df[df['text']!='']"
   ]
  },
  {
   "cell_type": "code",
   "execution_count": 47,
   "metadata": {
    "colab": {
     "base_uri": "https://localhost:8080/"
    },
    "id": "FUJjSE2MoEdv",
    "outputId": "3dd90ad2-8213-499e-cec9-9559e8937559"
   },
   "outputs": [
    {
     "data": {
      "text/plain": [
       "1556"
      ]
     },
     "execution_count": 47,
     "metadata": {},
     "output_type": "execute_result"
    }
   ],
   "source": [
    "# check duplicates\n",
    "df['text'].duplicated().sum()"
   ]
  },
  {
   "cell_type": "code",
   "execution_count": 48,
   "metadata": {
    "id": "K5D5pENa83_e"
   },
   "outputs": [],
   "source": [
    "# remove duplicates\n",
    "df = df.drop_duplicates(subset=['text'])"
   ]
  },
  {
   "cell_type": "markdown",
   "metadata": {
    "id": "lQ0qaCO09oxk"
   },
   "source": [
    "### Data pre-processing"
   ]
  },
  {
   "cell_type": "markdown",
   "metadata": {
    "id": "HGuFd46dWWLR"
   },
   "source": [
    "#### Encoding taget Label"
   ]
  },
  {
   "cell_type": "code",
   "execution_count": 49,
   "metadata": {
    "id": "v4Csv7kLV8oB"
   },
   "outputs": [],
   "source": [
    "# create lable encoding instant\n",
    "le = LabelEncoder()"
   ]
  },
  {
   "cell_type": "code",
   "execution_count": 50,
   "metadata": {
    "id": "aWqxw2M_V86F"
   },
   "outputs": [],
   "source": [
    "# label encode the dialect feature\n",
    "df['target'] = le.fit_transform(df['dialect'])"
   ]
  },
  {
   "cell_type": "code",
   "execution_count": 51,
   "metadata": {
    "colab": {
     "base_uri": "https://localhost:8080/"
    },
    "id": "aCm1GfV3XlYG",
    "outputId": "ae63f32d-0c2d-4c9d-80be-952659e27ba5"
   },
   "outputs": [
    {
     "data": {
      "text/plain": [
       "array(['AE', 'BH', 'DZ', 'EG', 'IQ', 'JO', 'KW', 'LB', 'LY', 'MA', 'OM',\n",
       "       'PL', 'QA', 'SA', 'SD', 'SY', 'TN', 'YE'], dtype=object)"
      ]
     },
     "execution_count": 51,
     "metadata": {},
     "output_type": "execute_result"
    }
   ],
   "source": [
    "# enconding order an classes\n",
    "le.classes_"
   ]
  },
  {
   "cell_type": "code",
   "execution_count": 52,
   "metadata": {
    "id": "MOcKQHIUXlU8"
   },
   "outputs": [],
   "source": [
    "# save the label encoder to reuse in deployment\n",
    "pickle.dump(le, open('models/labelencoder.pkl', 'wb'))"
   ]
  },
  {
   "cell_type": "code",
   "execution_count": 53,
   "metadata": {
    "id": "8sPSjof9bx4b"
   },
   "outputs": [],
   "source": [
    "# drop dialect column \n",
    "df.drop('dialect', axis=1, inplace=True)"
   ]
  },
  {
   "cell_type": "markdown",
   "metadata": {
    "id": "7ceCppagcMCk"
   },
   "source": [
    "#### Train Test Split"
   ]
  },
  {
   "cell_type": "markdown",
   "metadata": {
    "id": "fn3HYdVicSjX"
   },
   "source": [
    "- We are dealing with about 450K dataset record, so it would be better to split train to test as 95% to 5%, so:\n",
    "  - The model would train well from the given data \n",
    "  - About 20k records would be eough to evaluate the model"
   ]
  },
  {
   "cell_type": "code",
   "execution_count": 54,
   "metadata": {
    "id": "iAoYrqQdcKjP"
   },
   "outputs": [],
   "source": [
    "# data splitting \n",
    "train, test = train_test_split(df, train_size=0.95, stratify=df['target'], random_state=123)"
   ]
  },
  {
   "cell_type": "markdown",
   "metadata": {
    "id": "MjyqZ44rV9r9"
   },
   "source": [
    "#### Data Balancing"
   ]
  },
  {
   "attachments": {},
   "cell_type": "markdown",
   "metadata": {
    "id": "8VvjH0iUUZnk"
   },
   "source": [
    "- Firstly, we can remove data redundancy using different techniques, but it won't be effiective with our case, as we can deal with the same meaning sentences but differenct dialects, so will ignore this step.\n",
    "- Secondly, the best way is to oversampling using `Synthetic Minority Over-sampling Technique`, we will add it to the model pipeline in next step  `Model Training`\n",
    "\n",
    "##### N.B: Due to the large amount of the dataset, computational power resources are not enough and insufficient for oversampling step, so unfortunately it won't be done."
   ]
  },
  {
   "cell_type": "markdown",
   "metadata": {
    "id": "D_IDOocUndkt"
   },
   "source": [
    "### Saving datasets"
   ]
  },
  {
   "cell_type": "code",
   "execution_count": 55,
   "metadata": {
    "id": "BxVWoEV_niCW"
   },
   "outputs": [],
   "source": [
    "# save train and test datasets\n",
    "train.to_csv('data/train.csv', index=False)\n",
    "test.to_csv('data/test.csv', index=False)"
   ]
  },
  {
   "cell_type": "markdown",
   "metadata": {
    "id": "rvL3ij6sombf"
   },
   "source": [
    "### Done!"
   ]
  }
 ],
 "metadata": {
  "colab": {
   "collapsed_sections": [
    "5779lM5I8j6k",
    "7-N03POSqYwg",
    "omMjIOuX_fmL",
    "EBaWP6HVE2XW",
    "IcMxro0GG-qo",
    "vKpujEjYKPAT",
    "U9VkaqPRLek_",
    "Z9DNKMkKMjUW",
    "cfzhdi6bNmOU",
    "N-QKNua9S6ro"
   ],
   "name": "Data Pre-processing.ipynb",
   "provenance": []
  },
  "kernelspec": {
   "display_name": "Python 3",
   "language": "python",
   "name": "python3"
  },
  "language_info": {
   "codemirror_mode": {
    "name": "ipython",
    "version": 3
   },
   "file_extension": ".py",
   "mimetype": "text/x-python",
   "name": "python",
   "nbconvert_exporter": "python",
   "pygments_lexer": "ipython3",
   "version": "3.8.5"
  }
 },
 "nbformat": 4,
 "nbformat_minor": 1
}
