{
 "cells": [
  {
   "cell_type": "markdown",
   "metadata": {
    "id": "1kwo7EZmGOQb"
   },
   "source": [
    "### Mount Google Drive"
   ]
  },
  {
   "cell_type": "code",
   "execution_count": 1,
   "metadata": {
    "colab": {
     "base_uri": "https://localhost:8080/"
    },
    "id": "Kfumi1-aaPcX",
    "outputId": "4d33cc5b-5b3c-4416-eb9b-608d108bafb8"
   },
   "outputs": [
    {
     "name": "stdout",
     "output_type": "stream",
     "text": [
      "Mounted at /content/drive\n"
     ]
    }
   ],
   "source": [
    "from google.colab import drive\n",
    "drive.mount('/content/drive')"
   ]
  },
  {
   "cell_type": "markdown",
   "metadata": {
    "id": "wBQYyjL6pWIM"
   },
   "source": [
    "### Import Libraries"
   ]
  },
  {
   "cell_type": "code",
   "execution_count": 2,
   "metadata": {
    "id": "PQHIcvxQpYQs"
   },
   "outputs": [],
   "source": [
    "# for data reading and visualization\n",
    "import numpy as np\n",
    "import pandas as pd\n",
    "import matplotlib.pyplot as plt\n",
    "import seaborn as sns\n",
    "\n",
    "# for machine learning\n",
    "from sklearn.feature_extraction.text import TfidfVectorizer\n",
    "from sklearn.svm import LinearSVC\n",
    "from sklearn.pipeline import make_pipeline\n",
    "from sklearn.metrics import classification_report, accuracy_score, f1_score\n",
    "\n",
    "# for deep learning\n",
    "from sklearn.feature_extraction.text import CountVectorizer\n",
    "import tensorflow as tf\n",
    "from tensorflow.keras.preprocessing import sequence\n",
    "from tensorflow.keras import layers, models, callbacks, optimizers, losses\n",
    "from tensorflow.keras.preprocessing.text import Tokenizer\n",
    "\n",
    "# for saving models and training instants\n",
    "import pickle "
   ]
  },
  {
   "cell_type": "markdown",
   "metadata": {
    "id": "FrcUM85dqQJe"
   },
   "source": [
    "### Load Datasets"
   ]
  },
  {
   "cell_type": "code",
   "execution_count": 3,
   "metadata": {
    "colab": {
     "base_uri": "https://localhost:8080/"
    },
    "id": "vtBWV0KiMJGT",
    "outputId": "e24b11ac-03b0-4fa5-c0f1-9633ebefba7f"
   },
   "outputs": [
    {
     "name": "stdout",
     "output_type": "stream",
     "text": [
      "/content/drive/MyDrive/Machine Learning/AIM Task\n"
     ]
    }
   ],
   "source": [
    "# change working directory to the project folder on google drive\n",
    "%cd '/content/drive/MyDrive/Machine Learning/AIM Task'"
   ]
  },
  {
   "cell_type": "code",
   "execution_count": 4,
   "metadata": {
    "id": "gJLpPqEVppPB"
   },
   "outputs": [],
   "source": [
    "# read train and test csv files\n",
    "train = pd.read_csv('data/train.csv', lineterminator='\\n')\n",
    "test = pd.read_csv('data/test.csv', lineterminator='\\n')"
   ]
  },
  {
   "cell_type": "code",
   "execution_count": 5,
   "metadata": {
    "id": "FjVo5f3vaKoi"
   },
   "outputs": [],
   "source": [
    "# assign data inputs and targets\n",
    "X_train = train['text']\n",
    "y_train = train['target\\r']\n",
    "\n",
    "X_test = test['text']\n",
    "y_test = test['target\\r']"
   ]
  },
  {
   "cell_type": "markdown",
   "metadata": {
    "id": "GzwjyiMLwnGO"
   },
   "source": [
    "### Machine Learning Modeling"
   ]
  },
  {
   "attachments": {},
   "cell_type": "markdown",
   "metadata": {
    "id": "HaigcNkLr3Ua"
   },
   "source": [
    "- logically, dialects can be classified through the unique words for each dialect or unique expressions of 2 words, so `ngram range 1 to 2` will be suitable for this case. In addition, we need to ignore the high existance words and focus on the rare and unique ones, so `TFIDF count vectorized` will be suitable for this case.\n",
    "- As we deal with high dimensions, `Linear SVM Classifier` is a good model to deal with our data."
   ]
  },
  {
   "cell_type": "code",
   "execution_count": 6,
   "metadata": {
    "id": "jcMPpzNoXpVs"
   },
   "outputs": [],
   "source": [
    "# create Tfidf Count Vectorizer and apply on data\n",
    "tfidf_vec = TfidfVectorizer(ngram_range=(1, 2))\n",
    "\n",
    "# create svm instant and train\n",
    "svc_clf = LinearSVC(verbose=1)\n",
    "\n",
    "# create a pipeline\n",
    "pipe = make_pipeline(tfidf_vec, svc_clf)"
   ]
  },
  {
   "cell_type": "code",
   "execution_count": 7,
   "metadata": {
    "colab": {
     "base_uri": "https://localhost:8080/"
    },
    "id": "WZRm9aXgZ_NB",
    "outputId": "6415a646-0b13-4254-d07a-216982ae8bd6"
   },
   "outputs": [
    {
     "name": "stdout",
     "output_type": "stream",
     "text": [
      "[LibLinear]"
     ]
    },
    {
     "data": {
      "text/plain": [
       "Pipeline(steps=[('tfidfvectorizer', TfidfVectorizer(ngram_range=(1, 2))),\n",
       "                ('linearsvc', LinearSVC(verbose=1))])"
      ]
     },
     "execution_count": 7,
     "metadata": {},
     "output_type": "execute_result"
    }
   ],
   "source": [
    "# train the model\n",
    "pipe.fit(X_train, y_train)"
   ]
  },
  {
   "cell_type": "code",
   "execution_count": 8,
   "metadata": {
    "colab": {
     "base_uri": "https://localhost:8080/"
    },
    "id": "SsNH0Xd9ccez",
    "outputId": "99d13e5a-c064-4aa6-9b76-6085c6c92135"
   },
   "outputs": [
    {
     "name": "stdout",
     "output_type": "stream",
     "text": [
      "              precision    recall  f1-score   support\n",
      "\n",
      "           0       0.45      0.45      0.45      1307\n",
      "           1       0.39      0.30      0.34      1301\n",
      "           2       0.65      0.55      0.59       805\n",
      "           3       0.67      0.88      0.76      2868\n",
      "           4       0.67      0.57      0.61       765\n",
      "           5       0.43      0.34      0.38      1389\n",
      "           6       0.49      0.63      0.55      2094\n",
      "           7       0.63      0.70      0.66      1376\n",
      "           8       0.68      0.70      0.69      1820\n",
      "           9       0.79      0.58      0.67       574\n",
      "          10       0.46      0.36      0.40       947\n",
      "          11       0.50      0.56      0.53      2180\n",
      "          12       0.49      0.51      0.50      1549\n",
      "          13       0.44      0.47      0.45      1328\n",
      "          14       0.77      0.59      0.67       718\n",
      "          15       0.52      0.30      0.38       805\n",
      "          16       0.71      0.44      0.55       460\n",
      "          17       0.48      0.19      0.27       493\n",
      "\n",
      "    accuracy                           0.56     22779\n",
      "   macro avg       0.57      0.51      0.53     22779\n",
      "weighted avg       0.55      0.56      0.55     22779\n",
      "\n",
      "Accuracy: 0.557\n",
      "F1-score: 0.526\n"
     ]
    }
   ],
   "source": [
    "# evaluate the model\n",
    "y_pred1 = pipe.predict(X_test)\n",
    "acc1 = accuracy_score(y_test, y_pred1)\n",
    "f1_score1 = f1_score(y_test, y_pred1, average='macro')\n",
    "\n",
    "print(classification_report(y_test, y_pred1))\n",
    "print('Accuracy: {:0.3f}'.format(acc1))\n",
    "print('F1-score: {:0.3f}'.format(f1_score1))"
   ]
  },
  {
   "cell_type": "code",
   "execution_count": 9,
   "metadata": {
    "id": "elXDMU5jaKpH"
   },
   "outputs": [],
   "source": [
    "# save model pipeline\n",
    "pickle.dump(pipe, open('models/svm_pipeline.pkl', 'wb'))"
   ]
  },
  {
   "cell_type": "markdown",
   "metadata": {
    "id": "rXRqBLcVaKpL"
   },
   "source": [
    "### Deep Learning Modeling"
   ]
  },
  {
   "cell_type": "markdown",
   "metadata": {
    "id": "gqkW-XYOaKpN"
   },
   "source": [
    "- Fine-tuned Transformers are the best option to solve such a problem, but due to the poor computational power we will train using RNNs, especialy `Bi-directional LSTM model` to capture the sequence of the texts in both directions and deal with long texts."
   ]
  },
  {
   "cell_type": "code",
   "execution_count": 10,
   "metadata": {
    "colab": {
     "base_uri": "https://localhost:8080/"
    },
    "id": "TQ8Wo-AcaKpO",
    "outputId": "4dc3a844-2f1d-4680-c576-61f474c1df48"
   },
   "outputs": [
    {
     "name": "stderr",
     "output_type": "stream",
     "text": [
      "/usr/local/lib/python3.7/dist-packages/sklearn/utils/deprecation.py:87: FutureWarning: Function get_feature_names is deprecated; get_feature_names is deprecated in 1.0 and will be removed in 1.2. Please use get_feature_names_out instead.\n",
      "  warnings.warn(msg, category=FutureWarning)\n"
     ]
    },
    {
     "data": {
      "text/plain": [
       "397308"
      ]
     },
     "execution_count": 10,
     "metadata": {},
     "output_type": "execute_result"
    }
   ],
   "source": [
    "# check the number of unique tokens 'words' in data\n",
    "countVec = CountVectorizer()\n",
    "countVec.fit(X_train)\n",
    "len(countVec.get_feature_names())"
   ]
  },
  {
   "cell_type": "code",
   "execution_count": 11,
   "metadata": {
    "colab": {
     "base_uri": "https://localhost:8080/"
    },
    "id": "1WzfjdFVaKpQ",
    "outputId": "a0e422b3-adac-4751-97ad-45cf9c5fd426"
   },
   "outputs": [
    {
     "name": "stdout",
     "output_type": "stream",
     "text": [
      "280\n"
     ]
    }
   ],
   "source": [
    "# check the max sequence length in our data\n",
    "max_sequence_len = 0\n",
    "for text in X_train:\n",
    "    max_sequence_len = max(len(text), max_sequence_len)\n",
    "\n",
    "print(max_sequence_len)"
   ]
  },
  {
   "cell_type": "code",
   "execution_count": 12,
   "metadata": {
    "id": "XhOHPLRTaKpW"
   },
   "outputs": [],
   "source": [
    "# determine the vocab size and max sequence len\n",
    "vocab_size = 150000\n",
    "max_sequence_len = 20"
   ]
  },
  {
   "cell_type": "code",
   "execution_count": 13,
   "metadata": {
    "id": "nk6wjDsdaKpX"
   },
   "outputs": [],
   "source": [
    "# data tokenization\n",
    "tokenizer = Tokenizer(num_words=vocab_size)\n",
    "tokenizer.fit_on_texts(list(X_train))\n",
    "\n",
    "X_train_token = tokenizer.texts_to_sequences(X_train)\n",
    "X_test_token = tokenizer.texts_to_sequences(X_test)"
   ]
  },
  {
   "cell_type": "code",
   "execution_count": 14,
   "metadata": {
    "id": "WQDtJ2TBccV0"
   },
   "outputs": [],
   "source": [
    "# data padding\n",
    "X_train_padded = sequence.pad_sequences(X_train_token, maxlen=max_sequence_len)\n",
    "X_test_padded = sequence.pad_sequences(X_test_token, maxlen=max_sequence_len)"
   ]
  },
  {
   "cell_type": "code",
   "execution_count": 15,
   "metadata": {
    "colab": {
     "base_uri": "https://localhost:8080/"
    },
    "id": "GJWz5wOdaKpb",
    "outputId": "11ead27c-fcc6-4e8a-b86c-44c1ad5c8cc8"
   },
   "outputs": [
    {
     "name": "stdout",
     "output_type": "stream",
     "text": [
      "(432786, 20)\n",
      "(22779, 20)\n"
     ]
    }
   ],
   "source": [
    "# check padded data shapes\n",
    "print(X_train_padded.shape)\n",
    "print(X_test_padded.shape)"
   ]
  },
  {
   "cell_type": "code",
   "execution_count": 16,
   "metadata": {
    "id": "SUNRmg82yq6K"
   },
   "outputs": [],
   "source": [
    "# model architecture\n",
    "bi_lstm = models.Sequential([    \n",
    "                            layers.Embedding(vocab_size, 64),\n",
    "                            layers.Bidirectional(layers.LSTM(64)),\n",
    "                            layers.Flatten(),\n",
    "                            layers.Dense(64, activation='relu'),\n",
    "                            layers.Dropout(0.5),\n",
    "                            layers.Dense(18, activation='softmax')\n",
    "])\n",
    "\n",
    "# compile\n",
    "bi_lstm.compile(optimizer='adam',\n",
    "                loss='sparse_categorical_crossentropy',\n",
    "                metrics=['accuracy'])\n",
    "\n",
    "# early stop function\n",
    "early_stop = callbacks.EarlyStopping(patience=3, restore_best_weights=True)"
   ]
  },
  {
   "cell_type": "code",
   "execution_count": 17,
   "metadata": {
    "colab": {
     "base_uri": "https://localhost:8080/"
    },
    "id": "cLm5I7EMyq6M",
    "outputId": "6e95e305-42cb-4170-8685-7c39b9580070"
   },
   "outputs": [
    {
     "name": "stdout",
     "output_type": "stream",
     "text": [
      "Epoch 1/10\n",
      "13525/13525 [==============================] - 271s 19ms/step - loss: 1.9493 - accuracy: 0.3842 - val_loss: 1.6690 - val_accuracy: 0.4714\n",
      "Epoch 2/10\n",
      "13525/13525 [==============================] - 256s 19ms/step - loss: 1.4940 - accuracy: 0.5371 - val_loss: 1.5894 - val_accuracy: 0.5062\n",
      "Epoch 3/10\n",
      "13525/13525 [==============================] - 253s 19ms/step - loss: 1.2058 - accuracy: 0.6334 - val_loss: 1.6529 - val_accuracy: 0.5099\n",
      "Epoch 4/10\n",
      "13525/13525 [==============================] - 255s 19ms/step - loss: 0.9779 - accuracy: 0.7075 - val_loss: 1.7889 - val_accuracy: 0.5048\n",
      "Epoch 5/10\n",
      "13525/13525 [==============================] - 253s 19ms/step - loss: 0.8003 - accuracy: 0.7630 - val_loss: 2.0196 - val_accuracy: 0.4978\n"
     ]
    }
   ],
   "source": [
    "# # train the model \n",
    "history = bi_lstm.fit(X_train_padded, y_train,\n",
    "                  validation_data=(X_test_padded, y_test),\n",
    "                  epochs=10, callbacks=[early_stop])"
   ]
  },
  {
   "cell_type": "code",
   "execution_count": 18,
   "metadata": {
    "colab": {
     "base_uri": "https://localhost:8080/"
    },
    "id": "zpxwNxHgwI71",
    "outputId": "a8581eac-2454-4a16-b2c0-302e1926ad52"
   },
   "outputs": [
    {
     "name": "stdout",
     "output_type": "stream",
     "text": [
      "              precision    recall  f1-score   support\n",
      "\n",
      "           0       0.46      0.34      0.39      1307\n",
      "           1       0.34      0.22      0.27      1301\n",
      "           2       0.62      0.46      0.53       805\n",
      "           3       0.65      0.85      0.74      2868\n",
      "           4       0.59      0.51      0.55       765\n",
      "           5       0.46      0.13      0.21      1389\n",
      "           6       0.40      0.63      0.49      2094\n",
      "           7       0.60      0.61      0.61      1376\n",
      "           8       0.60      0.70      0.64      1820\n",
      "           9       0.75      0.53      0.62       574\n",
      "          10       0.46      0.27      0.34       947\n",
      "          11       0.41      0.61      0.49      2180\n",
      "          12       0.48      0.46      0.47      1549\n",
      "          13       0.33      0.42      0.37      1328\n",
      "          14       0.80      0.53      0.64       718\n",
      "          15       0.40      0.31      0.35       805\n",
      "          16       0.79      0.36      0.50       460\n",
      "          17       0.41      0.03      0.05       493\n",
      "\n",
      "    accuracy                           0.51     22779\n",
      "   macro avg       0.53      0.44      0.46     22779\n",
      "weighted avg       0.51      0.51      0.49     22779\n",
      "\n",
      "Accuracy: 0.506\n",
      "F1-score: 0.458\n"
     ]
    }
   ],
   "source": [
    "# evaluate the model\n",
    "y_pred2 = np.argmax(bi_lstm.predict(X_test_padded),axis = 1)\n",
    "acc2 = accuracy_score(y_test, y_pred2)\n",
    "f1_score2 = f1_score(y_test, y_pred2, average='macro')\n",
    "\n",
    "print(classification_report(y_test, y_pred2))\n",
    "print('Accuracy: {:0.3f}'.format(acc2))\n",
    "print('F1-score: {:0.3f}'.format(f1_score2))"
   ]
  },
  {
   "cell_type": "code",
   "execution_count": 19,
   "metadata": {
    "id": "qU36INtAwIxo"
   },
   "outputs": [],
   "source": [
    "# save model and weights\n",
    "bi_lstm.save('models/bi_lstm', save_format='h5')\n",
    "bi_lstm.save_weights('models/trained_bi_lstm_ckpt')"
   ]
  },
  {
   "cell_type": "markdown",
   "metadata": {
    "id": "m3FLqA8jG4EI"
   },
   "source": [
    "### Results"
   ]
  },
  {
   "cell_type": "code",
   "execution_count": 20,
   "metadata": {
    "colab": {
     "base_uri": "https://localhost:8080/",
     "height": 405
    },
    "id": "45nxFzm9G55W",
    "outputId": "cdc74d9c-9490-46bf-bdb2-18dfe58ae587"
   },
   "outputs": [
    {
     "data": {
      "image/png": "[encoded data removed]",
      "text/plain": [
       "<Figure size 432x432 with 1 Axes>"
      ]
     },
     "metadata": {
      "needs_background": "light"
     },
     "output_type": "display_data"
    }
   ],
   "source": [
    "# visualize results\n",
    "results_df = pd.DataFrame({\n",
    "                            'model' : ['SVM']*2 + ['Bi_LSTM']*2,\n",
    "                            'eval_metric':['Accuracy', 'Macro F1_score']*2, \n",
    "                            'values':[acc1, f1_score1, acc2, f1_score2] \n",
    "                           })\n",
    "\n",
    "plt.figure(figsize=(6,6))\n",
    "sns.barplot(data=results_df, x='model',y='values', hue='eval_metric')\n",
    "plt.title('Training Results')\n",
    "plt.ylim(0, 0.65);"
   ]
  },
  {
   "cell_type": "markdown",
   "metadata": {},
   "source": [
    "- In comparison, `SVM is better than Bi-LSTM and more accurate` in this problem case."
   ]
  },
  {
   "cell_type": "markdown",
   "metadata": {
    "id": "zfsBdnFTe4_a"
   },
   "source": [
    "### Done!"
   ]
  }
 ],
 "metadata": {
  "accelerator": "GPU",
  "colab": {
   "collapsed_sections": [],
   "name": "Model Training.ipynb",
   "provenance": []
  },
  "kernelspec": {
   "display_name": "Python 3",
   "language": "python",
   "name": "python3"
  },
  "language_info": {
   "codemirror_mode": {
    "name": "ipython",
    "version": 3
   },
   "file_extension": ".py",
   "mimetype": "text/x-python",
   "name": "python",
   "nbconvert_exporter": "python",
   "pygments_lexer": "ipython3",
   "version": "3.8.5"
  }
 },
 "nbformat": 4,
 "nbformat_minor": 1
}
